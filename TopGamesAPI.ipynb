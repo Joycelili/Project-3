{
 "cells": [
  {
   "cell_type": "markdown",
   "metadata": {},
   "source": [
    "·Importamos librerías"
   ]
  },
  {
   "cell_type": "code",
   "execution_count": 9,
   "metadata": {},
   "outputs": [],
   "source": [
    "import requests\n",
    "import pandas as pd\n",
    "from pandas import json_normalize\n",
    "import json\n",
    "import os\n",
    "from dotenv import load_dotenv\n",
    "from src.cleaning import *"
   ]
  },
  {
   "cell_type": "markdown",
   "metadata": {},
   "source": [
    "·Hacemos llamado a la Api"
   ]
  },
  {
   "cell_type": "code",
   "execution_count": 10,
   "metadata": {},
   "outputs": [],
   "source": [
    "load_dotenv()\n",
    "apiKey= os.getenv(\"apikey\")\n",
    "url = \"https://gplaystore.p.rapidapi.com/topFreeGames\"\n",
    "\n",
    "headers = {\n",
    "    'x-rapidapi-host': \"gplaystore.p.rapidapi.com\",\n",
    "    'x-rapidapi-key': apiKey\n",
    "    }\n",
    "response = requests.request(\"GET\", url, headers=headers)\n",
    "results= response.text #Esta en formato texto"
   ]
  },
  {
   "cell_type": "markdown",
   "metadata": {},
   "source": [
    "·Parseamos y hacemos una flatten "
   ]
  },
  {
   "cell_type": "code",
   "execution_count": 11,
   "metadata": {},
   "outputs": [
    {
     "data": {
      "text/html": [
       "<div>\n",
       "<style scoped>\n",
       "    .dataframe tbody tr th:only-of-type {\n",
       "        vertical-align: middle;\n",
       "    }\n",
       "\n",
       "    .dataframe tbody tr th {\n",
       "        vertical-align: top;\n",
       "    }\n",
       "\n",
       "    .dataframe thead th {\n",
       "        text-align: right;\n",
       "    }\n",
       "</style>\n",
       "<table border=\"1\" class=\"dataframe\">\n",
       "  <thead>\n",
       "    <tr style=\"text-align: right;\">\n",
       "      <th></th>\n",
       "      <th>id</th>\n",
       "      <th>name</th>\n",
       "      <th>publisher</th>\n",
       "      <th>image</th>\n",
       "      <th>price</th>\n",
       "      <th>rating</th>\n",
       "    </tr>\n",
       "  </thead>\n",
       "  <tbody>\n",
       "    <tr>\n",
       "      <th>0</th>\n",
       "      <td>com.innersloth.spacemafia</td>\n",
       "      <td>Among Us</td>\n",
       "      <td>Innersloth LLC</td>\n",
       "      <td>https://lh3.googleusercontent.com/VHB9bVB8cTcn...</td>\n",
       "      <td>0</td>\n",
       "      <td>4.5</td>\n",
       "    </tr>\n",
       "    <tr>\n",
       "      <th>1</th>\n",
       "      <td>com.tapped.drawrider</td>\n",
       "      <td>Scribble Rider</td>\n",
       "      <td>VOODOO</td>\n",
       "      <td>https://lh3.googleusercontent.com/70422iPPICEK...</td>\n",
       "      <td>0</td>\n",
       "      <td>3.8</td>\n",
       "    </tr>\n",
       "    <tr>\n",
       "      <th>2</th>\n",
       "      <td>com.jellybtn.boardkings</td>\n",
       "      <td>Board Kings™️ -  Multiplayer Board Games!</td>\n",
       "      <td>Jelly Button Games</td>\n",
       "      <td>https://lh3.googleusercontent.com/swXeCkyBKZ2G...</td>\n",
       "      <td>0</td>\n",
       "      <td>4.4</td>\n",
       "    </tr>\n",
       "    <tr>\n",
       "      <th>3</th>\n",
       "      <td>com.demin.emojipuzzle</td>\n",
       "      <td>Emoji Puzzle!</td>\n",
       "      <td>Supersonic Studios LTD</td>\n",
       "      <td>https://lh3.googleusercontent.com/JhTCD9LTYAKe...</td>\n",
       "      <td>0</td>\n",
       "      <td>4.3</td>\n",
       "    </tr>\n",
       "    <tr>\n",
       "      <th>4</th>\n",
       "      <td>com.hanna.bodyguard.expert</td>\n",
       "      <td>VIP Guard</td>\n",
       "      <td>Gismart</td>\n",
       "      <td>https://lh3.googleusercontent.com/caoZjMeA2aqr...</td>\n",
       "      <td>0</td>\n",
       "      <td>3.4</td>\n",
       "    </tr>\n",
       "  </tbody>\n",
       "</table>\n",
       "</div>"
      ],
      "text/plain": [
       "                           id                                       name  \\\n",
       "0   com.innersloth.spacemafia                                   Among Us   \n",
       "1        com.tapped.drawrider                             Scribble Rider   \n",
       "2     com.jellybtn.boardkings  Board Kings™️ -  Multiplayer Board Games!   \n",
       "3       com.demin.emojipuzzle                              Emoji Puzzle!   \n",
       "4  com.hanna.bodyguard.expert                                  VIP Guard   \n",
       "\n",
       "                publisher                                              image  \\\n",
       "0          Innersloth LLC  https://lh3.googleusercontent.com/VHB9bVB8cTcn...   \n",
       "1                  VOODOO  https://lh3.googleusercontent.com/70422iPPICEK...   \n",
       "2      Jelly Button Games  https://lh3.googleusercontent.com/swXeCkyBKZ2G...   \n",
       "3  Supersonic Studios LTD  https://lh3.googleusercontent.com/JhTCD9LTYAKe...   \n",
       "4                 Gismart  https://lh3.googleusercontent.com/caoZjMeA2aqr...   \n",
       "\n",
       "   price  rating  \n",
       "0      0     4.5  \n",
       "1      0     3.8  \n",
       "2      0     4.4  \n",
       "3      0     4.3  \n",
       "4      0     3.4  "
      ]
     },
     "execution_count": 11,
     "metadata": {},
     "output_type": "execute_result"
    }
   ],
   "source": [
    "data = json.loads(response.text)\n",
    "flat_data = json_normalize(data)\n",
    "\n",
    "flat_data.head()\n"
   ]
  },
  {
   "cell_type": "markdown",
   "metadata": {},
   "source": [
    "·Revisar info del dataframe"
   ]
  },
  {
   "cell_type": "code",
   "execution_count": 12,
   "metadata": {},
   "outputs": [
    {
     "name": "stdout",
     "output_type": "stream",
     "text": [
      "<class 'pandas.core.frame.DataFrame'>\n",
      "RangeIndex: 50 entries, 0 to 49\n",
      "Data columns (total 6 columns):\n",
      " #   Column     Non-Null Count  Dtype  \n",
      "---  ------     --------------  -----  \n",
      " 0   id         50 non-null     object \n",
      " 1   name       50 non-null     object \n",
      " 2   publisher  50 non-null     object \n",
      " 3   image      50 non-null     object \n",
      " 4   price      50 non-null     int64  \n",
      " 5   rating     50 non-null     float64\n",
      "dtypes: float64(1), int64(1), object(4)\n",
      "memory usage: 2.5+ KB\n"
     ]
    }
   ],
   "source": [
    "flat_data.info()"
   ]
  },
  {
   "cell_type": "code",
   "execution_count": 13,
   "metadata": {},
   "outputs": [
    {
     "data": {
      "text/plain": [
       "(50, 6)"
      ]
     },
     "execution_count": 13,
     "metadata": {},
     "output_type": "execute_result"
    }
   ],
   "source": [
    "flat_data.shape"
   ]
  },
  {
   "cell_type": "code",
   "execution_count": 14,
   "metadata": {},
   "outputs": [
    {
     "data": {
      "text/plain": [
       "id           0\n",
       "name         0\n",
       "publisher    0\n",
       "image        0\n",
       "price        0\n",
       "rating       0\n",
       "dtype: int64"
      ]
     },
     "execution_count": 14,
     "metadata": {},
     "output_type": "execute_result"
    }
   ],
   "source": [
    "flat_data.isnull().sum()"
   ]
  },
  {
   "cell_type": "code",
   "execution_count": 15,
   "metadata": {},
   "outputs": [],
   "source": [
    "def sort_values(df):\n",
    "    df2= df.sort_values(by=\"rating\",ascending=False)\n",
    "    return df2"
   ]
  },
  {
   "cell_type": "markdown",
   "metadata": {},
   "source": [
    "·Eliminamos las Apps duplicadas y nos quedamos solo con la última, reinicimos el index y eliminamos el antigüo."
   ]
  },
  {
   "cell_type": "code",
   "execution_count": null,
   "metadata": {},
   "outputs": [],
   "source": [
    "columna1 = 'name'\n",
    "googleapi= eli_dupli_col(topgp,columna1)\n",
    "googleapi.head()"
   ]
  },
  {
   "cell_type": "code",
   "execution_count": null,
   "metadata": {},
   "outputs": [],
   "source": [
    "googleapi.shape"
   ]
  },
  {
   "cell_type": "markdown",
   "metadata": {},
   "source": [
    "·Elimino la columna id que no em aporta info necesaria"
   ]
  },
  {
   "cell_type": "code",
   "execution_count": null,
   "metadata": {},
   "outputs": [],
   "source": [
    "googleapi.to_csv(\"output/limpiezaApi.csv\")"
   ]
  }
 ],
 "metadata": {
  "kernelspec": {
   "display_name": "Python 3",
   "language": "python",
   "name": "python3"
  },
  "language_info": {
   "codemirror_mode": {
    "name": "ipython",
    "version": 3
   },
   "file_extension": ".py",
   "mimetype": "text/x-python",
   "name": "python",
   "nbconvert_exporter": "python",
   "pygments_lexer": "ipython3",
   "version": "3.6.9"
  }
 },
 "nbformat": 4,
 "nbformat_minor": 4
}
